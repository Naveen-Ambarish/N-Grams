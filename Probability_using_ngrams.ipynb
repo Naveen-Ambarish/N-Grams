{
  "nbformat": 4,
  "nbformat_minor": 0,
  "metadata": {
    "colab": {
      "name": "Probability_using_ngrams.ipynb",
      "provenance": [],
      "collapsed_sections": []
    },
    "kernelspec": {
      "name": "python3",
      "display_name": "Python 3"
    },
    "language_info": {
      "name": "python"
    }
  },
  "cells": [
    {
      "cell_type": "markdown",
      "metadata": {
        "id": "NKkBf-_Den_n"
      },
      "source": [
        "To calculate the probability of test sentence given the corpus using N-Grams"
      ]
    },
    {
      "cell_type": "code",
      "metadata": {
        "id": "gDI-yU1NAgrj"
      },
      "source": [
        "import spacy\n",
        "import math\n",
        "nlp=spacy.load('en_core_web_sm')"
      ],
      "execution_count": 1,
      "outputs": []
    },
    {
      "cell_type": "code",
      "metadata": {
        "id": "LrsVM7lp-feH"
      },
      "source": [
        "def ngram1(t,n):\n",
        "  result=list()\n",
        "  for i in range(len(t)-n+1):\n",
        "    temp=[t[j] for j in range(i,i+n)]\n",
        "    temp=tuple(temp)\n",
        "    result.append(temp)\n",
        "  return result"
      ],
      "execution_count": 2,
      "outputs": []
    },
    {
      "cell_type": "code",
      "metadata": {
        "id": "LGTs_z5j0XSR"
      },
      "source": [
        "text=(\"\"\"The history of football can be traced back to the ancient times of the Greeks. Everyone knows that the Greeks were great sportsmen and have invented many games.\n",
        "Football happens to one of them. A similar game like football is played in many countries but the latest version of football that we knew originates in England. Likewise, England formulated the first rule of the game. From that day onwards the football has progressed in ways we can’t imagine.\n",
        "Football is an important game from the point of view of the spectator as well as the player. This 90 minutes game is full of excitement and thrill.\n",
        "Moreover, it keeps the player mentally and physically healthy, and disciplined. And this ninety-minute game tests their sportsmanship, patience, and tolerance.\n",
        "Besides, all this you make new friends and develop your talent. Above all, it’s a global game that promotes peace among countries. \n",
        "Learning any game is not an easy task. It requires dedication and hard work. Besides, all this the sport test your patience and insistence towards it. Moreover, with every new skill that you learn your game also improves. Above all, learning is a never-ending process so to learn football you have to be paying attention to every minute details that you forget to count or missed.\n",
        "When talking about the world’s most popular games, football tops the list. Every year we witness several football tournaments, which gives us the best adrenaline rush of our lives. It is exciting to see players and teams from various nations play against each other enthusiastically.\n",
        "The ones who play the games and watch the game have an equally high level of enthusiasm. We have given below a few paragraphs on football, which can be used by kids, students, and children belonging to different age groups.\n",
        "There are many sports played around the world and football is one of them. It is a very popular and exciting game and also happens to be one of the oldest games. In earlier times, many such games were played. People love watching a football game.\n",
        "Football is played by a team of 11 players, and there are two teams playing against each other. The football is round in shape and is kicked by the players. The players are not supposed to use hands to pass the ball. The aim is to hit the goal. To play football, a lot of energy is required.\n",
        "Across the globe, thousands of games are played, and football is one of the most famous and enthusiastic game. Almost every nation has a football team, and they have a huge fan following. There are many football tournaments held on national as well as international levels.\n",
        "We can judge how famous the game is by seeing the crowd’s enthusiasm and craze watching a match of their favorite team playing. It is believed that the game was invented in England around the mid-19th century, but there exists controversy as the Chinese claim that they had invented the game\"\"\").lower()"
      ],
      "execution_count": 3,
      "outputs": []
    },
    {
      "cell_type": "code",
      "metadata": {
        "id": "AHxafZR41Qn_"
      },
      "source": [
        "doc=nlp(text)\n",
        "t = [token.text for token in doc if not token.is_punct]\n",
        "n_gram=ngram1(t,2)"
      ],
      "execution_count": 4,
      "outputs": []
    },
    {
      "cell_type": "markdown",
      "metadata": {
        "id": "3chIPo8he9Qj"
      },
      "source": [
        "Counting the frequency of bi-grams and the unigrams for calculating probability"
      ]
    },
    {
      "cell_type": "code",
      "metadata": {
        "id": "bOxM507mPz2s"
      },
      "source": [
        "context={}\n",
        "n_gram_count={}\n",
        "for ngram in n_gram:\n",
        "  if ngram in n_gram_count:\n",
        "    n_gram_count[ngram]+=1\n",
        "  else:\n",
        "    n_gram_count[ngram]=1\n",
        "original={}\n",
        "for word in t:\n",
        "  if word not in original:\n",
        "    original[word]=1\n",
        "  else:\n",
        "    original[word]+=1"
      ],
      "execution_count": 5,
      "outputs": []
    },
    {
      "cell_type": "code",
      "metadata": {
        "id": "5F_tM7QhREJ7"
      },
      "source": [
        "def probability(bigram,unigram):\n",
        "  token_count = n_gram_count[bigram]\n",
        "  total_count=original[unigram]\n",
        "  prob =  token_count / total_count\n",
        "  return prob"
      ],
      "execution_count": 6,
      "outputs": []
    },
    {
      "cell_type": "markdown",
      "metadata": {
        "id": "9yn-bqu5fHb1"
      },
      "source": [
        "Test Sentences"
      ]
    },
    {
      "cell_type": "code",
      "metadata": {
        "colab": {
          "base_uri": "https://localhost:8080/"
        },
        "id": "rey6Supk8XdE",
        "outputId": "fb707b76-7565-4b56-fa3f-9ad7e51bc786"
      },
      "source": [
        "test1=\"Football is one of the most popular games  all over the world\"\n",
        "doc1=nlp(test1)\n",
        "t1=[t.text for t in doc1 if  not t.is_punct]\n",
        "testn=ngram1(t1,2)\n",
        "prod=1\n",
        "for t in testn:\n",
        "  if t in n_gram_count.keys():\n",
        "    prev_word,next=t\n",
        "    prod=prod*probability(t,next)\n",
        "  else:\n",
        "    prod=prod*1/len(original)                    # If the word doesnt found in the vocabulary set\n",
        "print(\"The probability of test sentence is\",math.log(prod))"
      ],
      "execution_count": 7,
      "outputs": [
        {
          "output_type": "stream",
          "text": [
            "The probability of test sentence is -34.66722475960949\n"
          ],
          "name": "stdout"
        }
      ]
    },
    {
      "cell_type": "code",
      "metadata": {
        "colab": {
          "base_uri": "https://localhost:8080/"
        },
        "id": "nV5Fh4CaaskA",
        "outputId": "c6993e7f-5310-40c7-9436-d6a395725a40"
      },
      "source": [
        "test1=\"Kids love to play football.\"\n",
        "doc1=nlp(test1)\n",
        "t1=[t.text for t in doc1 if  not t.is_punct]\n",
        "testn=ngram1(t1,2)\n",
        "prod=1\n",
        "for t in testn:\n",
        "  if t in n_gram_count.keys():\n",
        "    prev_word,next=t\n",
        "    prod=prod*probability(t,next)\n",
        "  else:\n",
        "    prod=prod*1/len(original)                    # If the word doesnt found in the vocabulary set\n",
        "print(\"The probability of test sentence is\",math.log(prod))"
      ],
      "execution_count": 8,
      "outputs": [
        {
          "output_type": "stream",
          "text": [
            "The probability of test sentence is -14.950261893248257\n"
          ],
          "name": "stdout"
        }
      ]
    }
  ]
}